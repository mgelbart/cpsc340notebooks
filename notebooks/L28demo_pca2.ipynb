{
 "cells": [
  {
   "cell_type": "markdown",
   "metadata": {},
   "source": [
    "## PCA (Part 2)\n",
    "\n",
    "CPSC 340: Machine Learning and Data Mining\n",
    "\n",
    "The University of British Columbia\n",
    "\n",
    "2017 Winter Term 2\n",
    "\n",
    "Mike Gelbart"
   ]
  },
  {
   "cell_type": "code",
   "execution_count": 3,
   "metadata": {},
   "outputs": [],
   "source": [
    "import numpy as np\n",
    "import pickle\n",
    "import os.path\n",
    "import random\n",
    "import matplotlib.pyplot as plt\n",
    "%matplotlib inline\n",
    "from sklearn.decomposition import PCA"
   ]
  },
  {
   "cell_type": "code",
   "execution_count": 4,
   "metadata": {},
   "outputs": [
    {
     "name": "stdout",
     "output_type": "stream",
     "text": [
      "We have 2414 faces, each 32x32 pixels.\n"
     ]
    },
    {
     "data": {
      "image/png": "[encoded data removed]",
      "text/plain": [
       "<matplotlib.figure.Figure at 0x114edadd8>"
      ]
     },
     "metadata": {},
     "output_type": "display_data"
    }
   ],
   "source": [
    "with open(os.path.join(\"img\",\"faces.pkl\"), \"rb\") as f:\n",
    "    faces = pickle.load(f)\n",
    "\n",
    "# helper functions\n",
    "def display_face(f, cmap='Greys_r', vmin=None, vmax=None):\n",
    "    plt.imshow(np.reshape(f, (32,32)).T, cmap=cmap, vmin=vmin, vmax=vmax)\n",
    "    plt.tick_params(axis='both', which='both', bottom='off', left='off', labelbottom='off', labelleft='off')\n",
    "    plt.grid(False)    \n",
    "def reconstruct(model, X):\n",
    "    Z = model.transform(X)\n",
    "    try:\n",
    "        return model.inverse_transform(Z)\n",
    "    except AttributeError: # no inverse_transform function\n",
    "        W = model.components_\n",
    "        return Z@W\n",
    "    # Note on the above: you can't just do Z@W for PCA because of the centring of the data, \n",
    "    # which needs to be undone for the reconstruction\n",
    "\n",
    "\n",
    "plt.figure()\n",
    "plt.subplot(1,2,1)\n",
    "display_face(random.choice(faces))\n",
    "plt.title(\"A random face\")\n",
    "plt.subplot(1,2,2)\n",
    "display_face(np.mean(faces,axis=0))\n",
    "plt.title(\"The average face\")\n",
    "\n",
    "N,D = faces.shape\n",
    "print(\"We have %d faces, each 32x32 pixels.\" % N)"
   ]
  },
  {
   "cell_type": "markdown",
   "metadata": {},
   "source": [
    "## Testing it out with scikit-learn's PCA"
   ]
  },
  {
   "cell_type": "code",
   "execution_count": 7,
   "metadata": {},
   "outputs": [
    {
     "data": {
      "text/plain": [
       "PCA(copy=True, iterated_power='auto', n_components=None, random_state=None,\n",
       "  svd_solver='auto', tol=0.0, whiten=False)"
      ]
     },
     "execution_count": 7,
     "metadata": {},
     "output_type": "execute_result"
    }
   ],
   "source": [
    "pca = PCA()\n",
    "pca.fit(faces)"
   ]
  },
  {
   "cell_type": "code",
   "execution_count": 13,
   "metadata": {},
   "outputs": [
    {
     "name": "stdout",
     "output_type": "stream",
     "text": [
      "With  1 components, variance explained = 36%\n",
      "With  2 components, variance explained = 71%\n",
      "With  3 components, variance explained = 76%\n",
      "With  4 components, variance explained = 79%\n",
      "With  5 components, variance explained = 80%\n",
      "With  6 components, variance explained = 82%\n",
      "With  7 components, variance explained = 83%\n",
      "With  8 components, variance explained = 84%\n",
      "With  9 components, variance explained = 85%\n",
      "With 10 components, variance explained = 85%\n",
      "With 11 components, variance explained = 86%\n",
      "With 12 components, variance explained = 86%\n",
      "With 13 components, variance explained = 87%\n",
      "With 14 components, variance explained = 87%\n",
      "With 15 components, variance explained = 88%\n",
      "With 16 components, variance explained = 88%\n",
      "With 17 components, variance explained = 88%\n",
      "With 18 components, variance explained = 89%\n",
      "With 19 components, variance explained = 89%\n",
      "With 20 components, variance explained = 89%\n"
     ]
    }
   ],
   "source": [
    "cumulative_var_expl = np.cumsum(pca.explained_variance_ratio_)\n",
    "for i in range(20):\n",
    "    print(\"With %2d components, variance explained = %.0f%%\" % (i+1, cumulative_var_expl[i]*100))"
   ]
  },
  {
   "cell_type": "markdown",
   "metadata": {},
   "source": [
    "## Our own implementation"
   ]
  },
  {
   "cell_type": "code",
   "execution_count": 44,
   "metadata": {},
   "outputs": [],
   "source": [
    "pixel_means = np.mean(faces,axis=0)\n",
    "faces_centered = faces - pixel_means\n",
    "u,s,W = np.linalg.svd(faces_centered, full_matrices=False)\n",
    "Z = u@np.diag(s)"
   ]
  },
  {
   "cell_type": "code",
   "execution_count": 45,
   "metadata": {},
   "outputs": [
    {
     "data": {
      "text/plain": [
       "(1024,)"
      ]
     },
     "execution_count": 45,
     "metadata": {},
     "output_type": "execute_result"
    }
   ],
   "source": [
    "pixel_means.shape"
   ]
  },
  {
   "cell_type": "code",
   "execution_count": 46,
   "metadata": {},
   "outputs": [
    {
     "data": {
      "text/plain": [
       "(2414, 1024)"
      ]
     },
     "execution_count": 46,
     "metadata": {},
     "output_type": "execute_result"
    }
   ],
   "source": [
    "Z.shape"
   ]
  },
  {
   "cell_type": "code",
   "execution_count": 47,
   "metadata": {},
   "outputs": [
    {
     "data": {
      "text/plain": [
       "(1024, 1024)"
      ]
     },
     "execution_count": 47,
     "metadata": {},
     "output_type": "execute_result"
    }
   ],
   "source": [
    "W.shape"
   ]
  },
  {
   "cell_type": "code",
   "execution_count": 48,
   "metadata": {},
   "outputs": [
    {
     "name": "stdout",
     "output_type": "stream",
     "text": [
      "With  1 components, variance explained = 36%\n",
      "With  2 components, variance explained = 71%\n",
      "With  3 components, variance explained = 76%\n",
      "With  4 components, variance explained = 79%\n",
      "With  5 components, variance explained = 80%\n",
      "With  6 components, variance explained = 82%\n",
      "With  7 components, variance explained = 83%\n",
      "With  8 components, variance explained = 84%\n",
      "With  9 components, variance explained = 85%\n",
      "With 10 components, variance explained = 85%\n",
      "With 11 components, variance explained = 86%\n",
      "With 12 components, variance explained = 86%\n",
      "With 13 components, variance explained = 87%\n",
      "With 14 components, variance explained = 87%\n",
      "With 15 components, variance explained = 88%\n",
      "With 16 components, variance explained = 88%\n",
      "With 17 components, variance explained = 88%\n",
      "With 18 components, variance explained = 89%\n",
      "With 19 components, variance explained = 89%\n"
     ]
    }
   ],
   "source": [
    "for i in range(1,20):\n",
    "    reconstr = Z[:,:i]@W[:i]\n",
    "    var_expl = 1-np.sum((reconstr-faces_centered)**2)/np.sum(faces_centered**2)\n",
    "    print(\"With %2d components, variance explained = %.0f%%\" % (i, var_expl*100))"
   ]
  }
 ],
 "metadata": {
  "kernelspec": {
   "display_name": "Python 3 (ipykernel)",
   "language": "python",
   "name": "python3"
  },
  "language_info": {
   "codemirror_mode": {
    "name": "ipython",
    "version": 3
   },
   "file_extension": ".py",
   "mimetype": "text/x-python",
   "name": "python",
   "nbconvert_exporter": "python",
   "pygments_lexer": "ipython3",
   "version": "3.8.5"
  }
 },
 "nbformat": 4,
 "nbformat_minor": 4
}
