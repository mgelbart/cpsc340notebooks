{
 "cells": [
  {
   "cell_type": "markdown",
   "metadata": {},
   "source": [
    "# Kernels demo\n"
   ]
  },
  {
   "cell_type": "code",
   "execution_count": null,
   "metadata": {},
   "outputs": [],
   "source": [
    "import numpy as np\n",
    "import numpy.random as npr\n",
    "import sklearn\n",
    "from sklearn.svm import SVC\n",
    "from sklearn.linear_model import LogisticRegression\n",
    "from sklearn.model_selection import train_test_split\n",
    "from sklearn.preprocessing import PolynomialFeatures\n",
    "\n",
    "import matplotlib.pyplot as plt\n",
    "%matplotlib inline\n",
    "\n",
    "from plot_classifier import plot_classifier\n",
    "\n",
    "%autosave 0"
   ]
  },
  {
   "cell_type": "markdown",
   "metadata": {},
   "source": [
    "## \"Other normal equations\" demo\n",
    "\n",
    "- The normal equations: $$w=(X^TX+\\lambda I)^{-1}X^Ty$$\n",
    "- Alternate form: $$w=X^T(XX^T+\\lambda I)^{-1}y$$\n",
    "\n",
    "Let's test this out:"
   ]
  },
  {
   "cell_type": "code",
   "execution_count": null,
   "metadata": {},
   "outputs": [],
   "source": [
    "n = 1000\n",
    "d = 10\n",
    "X = npr.randn(n,d)\n",
    "y = npr.rand(n)\n",
    "\n",
    "λ=1"
   ]
  },
  {
   "cell_type": "code",
   "execution_count": 88,
   "metadata": {},
   "outputs": [
    {
     "data": {
      "text/plain": [
       "array([-0.00777902,  0.00895081,  0.02043244, -0.01806816,  0.019294  ,\n",
       "        0.00230314,  0.00233585, -0.00322085,  0.00128307,  0.01928348])"
      ]
     },
     "execution_count": 88,
     "metadata": {},
     "output_type": "execute_result"
    }
   ],
   "source": [
    "w1 = np.linalg.solve(X.T@X + λ*np.eye(d), X.T@y)\n",
    "w1"
   ]
  },
  {
   "cell_type": "code",
   "execution_count": 89,
   "metadata": {},
   "outputs": [
    {
     "data": {
      "text/plain": [
       "array([-0.00777902,  0.00895081,  0.02043244, -0.01806816,  0.019294  ,\n",
       "        0.00230314,  0.00233585, -0.00322085,  0.00128307,  0.01928348])"
      ]
     },
     "execution_count": 89,
     "metadata": {},
     "output_type": "execute_result"
    }
   ],
   "source": [
    "w2 = X.T@np.linalg.solve(X@X.T+λ*np.eye(n), y)\n",
    "w2"
   ]
  },
  {
   "cell_type": "code",
   "execution_count": 90,
   "metadata": {},
   "outputs": [
    {
     "data": {
      "text/plain": [
       "True"
      ]
     },
     "execution_count": 90,
     "metadata": {},
     "output_type": "execute_result"
    }
   ],
   "source": [
    "np.allclose(w1,w2)"
   ]
  },
  {
   "cell_type": "markdown",
   "metadata": {},
   "source": [
    "This isn't a proof but they seem to yield the same results for this randomly generated dataset."
   ]
  },
  {
   "cell_type": "markdown",
   "metadata": {},
   "source": [
    "## Number of polynomial features\n"
   ]
  },
  {
   "cell_type": "code",
   "execution_count": null,
   "metadata": {},
   "outputs": [],
   "source": [
    "n = 2\n",
    "d = 4\n",
    "p = 3\n",
    "\n",
    "X = npr.randn(n,d)\n",
    "y = npr.randn(n)\n",
    "\n",
    "pf = PolynomialFeatures(degree=p)\n",
    "Z = pf.fit_transform(X)\n",
    "Z.shape"
   ]
  },
  {
   "cell_type": "markdown",
   "metadata": {},
   "source": [
    "Above: we get $k=35$ as in the slides."
   ]
  },
  {
   "cell_type": "markdown",
   "metadata": {},
   "source": [
    "## Polynonial kernel vs. polynomial features (for regression)\n"
   ]
  },
  {
   "cell_type": "code",
   "execution_count": 91,
   "metadata": {},
   "outputs": [],
   "source": [
    "n = 10\n",
    "x = np.random.rand(n)\n",
    "y = x**2 + np.random.randn(n)*.1"
   ]
  },
  {
   "cell_type": "code",
   "execution_count": 92,
   "metadata": {},
   "outputs": [
    {
     "data": {
      "image/png": "[encoded data removed]",
      "text/plain": [
       "<Figure size 432x288 with 1 Axes>"
      ]
     },
     "metadata": {},
     "output_type": "display_data"
    }
   ],
   "source": [
    "plt.plot(x,y,'.');"
   ]
  },
  {
   "cell_type": "code",
   "execution_count": 93,
   "metadata": {},
   "outputs": [
    {
     "data": {
      "text/plain": [
       "Ridge(alpha=1e-10, copy_X=True, fit_intercept=False, max_iter=None,\n",
       "   normalize=False, random_state=None, solver='auto', tol=0.001)"
      ]
     },
     "execution_count": 93,
     "metadata": {},
     "output_type": "execute_result"
    }
   ],
   "source": [
    "from sklearn.kernel_ridge import KernelRidge\n",
    "from sklearn.preprocessing import PolynomialFeatures\n",
    "from sklearn.linear_model import Ridge\n",
    "\n",
    "k=10  # polynomial degree\n",
    "λ=1e-10 # L2 regularization strength\n",
    "\n",
    "X = x[:,None]\n",
    "pf = PolynomialFeatures(degree=k)\n",
    "Z = pf.fit_transform(X)\n",
    "\n",
    "ridge = Ridge(alpha=λ, fit_intercept=False) \n",
    "# fit_intercept=False because features already include intercept feature\n",
    "# could alternatively set include_bias=False for the PolynomialFeatures\n",
    "ridge.fit(Z,y)"
   ]
  },
  {
   "cell_type": "code",
   "execution_count": 94,
   "metadata": {},
   "outputs": [
    {
     "data": {
      "image/png": "[encoded data removed]",
      "text/plain": [
       "<Figure size 432x288 with 1 Axes>"
      ]
     },
     "metadata": {},
     "output_type": "display_data"
    }
   ],
   "source": [
    "# grid = np.linspace(0,1,1000)[:,None]\n",
    "grid = np.linspace(np.min(x),np.max(x),1000)[:,None]\n",
    "plt.plot(x,y,'.')\n",
    "plt.plot(grid, ridge.predict(pf.transform(grid)));"
   ]
  },
  {
   "cell_type": "code",
   "execution_count": 95,
   "metadata": {},
   "outputs": [
    {
     "data": {
      "text/plain": [
       "array([ -24.31354986,  202.05238535, -619.50582657,  780.47608093,\n",
       "        -64.81219613, -610.3731211 ,    6.23091342,  569.73479582,\n",
       "        142.41968717, -646.85587342,  265.65894704])"
      ]
     },
     "execution_count": 95,
     "metadata": {},
     "output_type": "execute_result"
    }
   ],
   "source": [
    "ridge.coef_"
   ]
  },
  {
   "cell_type": "markdown",
   "metadata": {},
   "source": [
    "#### And now the same with a kernel"
   ]
  },
  {
   "cell_type": "code",
   "execution_count": 96,
   "metadata": {},
   "outputs": [
    {
     "data": {
      "text/plain": [
       "KernelRidge(alpha=1e-10, coef0=1, degree=10, gamma=None, kernel='polynomial',\n",
       "      kernel_params=None)"
      ]
     },
     "execution_count": 96,
     "metadata": {},
     "output_type": "execute_result"
    }
   ],
   "source": [
    "kr = KernelRidge(alpha=λ, kernel='polynomial', degree=k)\n",
    "kr.fit(X,y)"
   ]
  },
  {
   "cell_type": "code",
   "execution_count": 97,
   "metadata": {
    "scrolled": true
   },
   "outputs": [
    {
     "data": {
      "image/png": "[encoded data removed]",
      "text/plain": [
       "<Figure size 432x288 with 1 Axes>"
      ]
     },
     "metadata": {},
     "output_type": "display_data"
    }
   ],
   "source": [
    "plt.plot(x,y,'.')\n",
    "plt.plot(grid, kr.predict(grid));"
   ]
  },
  {
   "cell_type": "markdown",
   "metadata": {},
   "source": [
    "There are slight differences due to different implementations and different interpretations of $\\lambda$, but they are essentially the same."
   ]
  },
  {
   "cell_type": "markdown",
   "metadata": {},
   "source": [
    "### RBF kernel vs. RBF features\n",
    "\n",
    "Next we'll try to show how the RBF kernel relates to the RBF features. We implement the RBF features (from Lecture 14) below, and compare with the above. "
   ]
  },
  {
   "cell_type": "code",
   "execution_count": 98,
   "metadata": {},
   "outputs": [
    {
     "data": {
      "image/png": "[encoded data removed]",
      "text/plain": [
       "<Figure size 432x288 with 1 Axes>"
      ]
     },
     "metadata": {},
     "output_type": "display_data"
    }
   ],
   "source": [
    "# generate synthetic 2D data set\n",
    "npr.seed(0)\n",
    "n = 20\n",
    "X = npr.randn(n,2)\n",
    "y = npr.choice((-1,+1),size=n)\n",
    "\n",
    "plt.scatter(X[y<0,0], X[y<0,1], color=\"b\", label=\"class $-1$\")\n",
    "plt.scatter(X[y>0,0], X[y>0,1], color=\"r\", label=\"class $+1$\")\n",
    "plt.legend(loc=\"best\")\n",
    "plt.show()"
   ]
  },
  {
   "cell_type": "code",
   "execution_count": 100,
   "metadata": {},
   "outputs": [
    {
     "data": {
      "image/png": "[encoded data removed]",
      "text/plain": [
       "<Figure size 432x288 with 1 Axes>"
      ]
     },
     "metadata": {},
     "output_type": "display_data"
    }
   ],
   "source": [
    "svm = SVC(kernel=\"rbf\")\n",
    "svm.fit(X,y)\n",
    "plot_classifier(X, y, svm,ax=plt.gca())\n",
    "plt.scatter(*svm.support_vectors_.T, marker=\"o\", edgecolor=\"yellow\", facecolor=\"none\", s=120);"
   ]
  },
  {
   "cell_type": "code",
   "execution_count": 101,
   "metadata": {},
   "outputs": [
    {
     "data": {
      "image/png": "[encoded data removed]",
      "text/plain": [
       "<Figure size 432x288 with 1 Axes>"
      ]
     },
     "metadata": {},
     "output_type": "display_data"
    }
   ],
   "source": [
    "def euclidean_dist_squared(X, Xtest):\n",
    "    return np.sum(X**2, axis=1)[:,None] + np.sum(Xtest**2, axis=1)[None] - 2 * np.dot(X,Xtest.T)\n",
    "\n",
    "def RBF_features(Xtrain, Xtest, sigma=1):\n",
    "    return np.exp(-0.5*euclidean_dist_squared(Xtest,Xtrain)/(sigma**2))\n",
    "\n",
    "Z = RBF_features(X,X)\n",
    "svm2 = SVC(kernel=\"linear\")\n",
    "svm2.fit(Z,y)\n",
    "plot_classifier(X, y, svm2, transformation=lambda Xtest: RBF_features(X,Xtest), ax=plt.gca())\n",
    "plt.scatter(*X[svm2.support_].T, marker=\"o\", edgecolor=\"yellow\", facecolor=\"none\", s=120);"
   ]
  },
  {
   "cell_type": "markdown",
   "metadata": {},
   "source": [
    "They look pretty similar. Let's time them though. "
   ]
  },
  {
   "cell_type": "code",
   "execution_count": 102,
   "metadata": {},
   "outputs": [
    {
     "name": "stdout",
     "output_type": "stream",
     "text": [
      "40.1 ms ± 6.42 ms per loop (mean ± std. dev. of 7 runs, 10 loops each)\n"
     ]
    }
   ],
   "source": [
    "n = 1000\n",
    "d = 10\n",
    "X = npr.randn(n,d)\n",
    "y = npr.choice((-1,+1),size=n)\n",
    "\n",
    "svm = SVC(kernel=\"rbf\")\n",
    "\n",
    "%timeit svm.fit(X,y)"
   ]
  },
  {
   "cell_type": "code",
   "execution_count": 103,
   "metadata": {},
   "outputs": [
    {
     "name": "stdout",
     "output_type": "stream",
     "text": [
      "24.3 ms ± 1 ms per loop (mean ± std. dev. of 7 runs, 10 loops each)\n"
     ]
    }
   ],
   "source": [
    "%timeit svm.predict(X)"
   ]
  },
  {
   "cell_type": "code",
   "execution_count": 104,
   "metadata": {},
   "outputs": [
    {
     "name": "stdout",
     "output_type": "stream",
     "text": [
      "1.39 s ± 28 ms per loop (mean ± std. dev. of 7 runs, 1 loop each)\n"
     ]
    }
   ],
   "source": [
    "Z = RBF_features(X,X)\n",
    "svm2 = SVC(kernel=\"linear\")\n",
    "\n",
    "%timeit svm2.fit(Z,y)"
   ]
  },
  {
   "cell_type": "code",
   "execution_count": 105,
   "metadata": {},
   "outputs": [
    {
     "name": "stdout",
     "output_type": "stream",
     "text": [
      "1.35 s ± 96.2 ms per loop (mean ± std. dev. of 7 runs, 1 loop each)\n"
     ]
    }
   ],
   "source": [
    "%timeit svm2.predict(Z)"
   ]
  },
  {
   "cell_type": "code",
   "execution_count": null,
   "metadata": {},
   "outputs": [],
   "source": []
  }
 ],
 "metadata": {
  "kernelspec": {
   "display_name": "Python 3 (ipykernel)",
   "language": "python",
   "name": "python3"
  },
  "language_info": {
   "codemirror_mode": {
    "name": "ipython",
    "version": 3
   },
   "file_extension": ".py",
   "mimetype": "text/x-python",
   "name": "python",
   "nbconvert_exporter": "python",
   "pygments_lexer": "ipython3",
   "version": "3.8.5"
  }
 },
 "nbformat": 4,
 "nbformat_minor": 4
}
